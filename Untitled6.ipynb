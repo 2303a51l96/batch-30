{
  "nbformat": 4,
  "nbformat_minor": 0,
  "metadata": {
    "colab": {
      "provenance": [],
      "authorship_tag": "ABX9TyPATp30D3v6EkrTNaZed9wZ",
      "include_colab_link": true
    },
    "kernelspec": {
      "name": "python3",
      "display_name": "Python 3"
    },
    "language_info": {
      "name": "python"
    }
  },
  "cells": [
    {
      "cell_type": "markdown",
      "metadata": {
        "id": "view-in-github",
        "colab_type": "text"
      },
      "source": [
        "<a href=\"https://colab.research.google.com/github/2303a51l96/batch-30/blob/main/Untitled6.ipynb\" target=\"_parent\"><img src=\"https://colab.research.google.com/assets/colab-badge.svg\" alt=\"Open In Colab\"/></a>"
      ]
    },
    {
      "cell_type": "code",
      "execution_count": 1,
      "metadata": {
        "colab": {
          "base_uri": "https://localhost:8080/"
        },
        "id": "gcJuksXV2RlO",
        "outputId": "b28c1f69-7077-49a7-c7c8-02fa5d555f12"
      },
      "outputs": [
        {
          "output_type": "stream",
          "name": "stdout",
          "text": [
            "Original Text: Harish\n",
            "Encrypted Text: \"Kdulvk\"\n"
          ]
        }
      ],
      "source": [
        "import tensorflow as tf\n",
        "\n",
        "def caesar_cipher_tf(text, shift):\n",
        "    \"\"\"\n",
        "    Encrypts a given text using a simple Caesar cipher, utilizing TensorFlow operations.\n",
        "    \"\"\"\n",
        "    alphabet = tf.constant(list('abcdefghijklmnopqrstuvwxyz'))\n",
        "    text_tensor = tf.constant(list(text))\n",
        "    shift_tensor = tf.constant(shift, dtype=tf.int64)\n",
        "\n",
        "    def shift_char(char):\n",
        "        if tf.strings.regex_full_match(char, r\"[A-Za-z]\"):\n",
        "            is_upper = tf.strings.regex_full_match(char, r\"[A-Z]\")\n",
        "            lower_char = tf.strings.lower(char)\n",
        "            char_index = tf.argmax(tf.equal(alphabet, lower_char))\n",
        "            new_index = (char_index + shift_tensor) % len(alphabet)\n",
        "            new_char = alphabet[new_index]\n",
        "            return tf.strings.upper(new_char) if is_upper else new_char\n",
        "        else:\n",
        "            return char\n",
        "\n",
        "    encrypted_text = tf.map_fn(shift_char, text_tensor, fn_output_signature=tf.string)\n",
        "    return tf.strings.reduce_join(encrypted_text)\n",
        "\n",
        "# Example usage\n",
        "text = \"Harish\"\n",
        "shift = 3\n",
        "encrypted_text = caesar_cipher_tf(text, shift)\n",
        "tf.print(\"Original Text:\", text)\n",
        "tf.print(\"Encrypted Text:\", encrypted_text)"
      ]
    }
  ]
}